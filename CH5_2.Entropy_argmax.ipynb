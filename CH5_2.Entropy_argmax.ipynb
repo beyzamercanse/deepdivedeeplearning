{
 "cells": [
  {
   "cell_type": "raw",
   "metadata": {},
   "source": [
    "Beyza Mercan"
   ]
  },
  {
   "cell_type": "markdown",
   "metadata": {},
   "source": [
    "### 1. Entropy"
   ]
  },
  {
   "cell_type": "code",
   "execution_count": 3,
   "metadata": {},
   "outputs": [],
   "source": [
    "#import libraries\n",
    "import numpy as np\n",
    "import matplotlib.pyplot as plt"
   ]
  },
  {
   "cell_type": "code",
   "execution_count": 5,
   "metadata": {},
   "outputs": [
    {
     "name": "stdout",
     "output_type": "stream",
     "text": [
      "Wrong entropy: 0.34657359027997264\n"
     ]
    }
   ],
   "source": [
    "#probability of an event happening:\n",
    "p = .25\n",
    "q = 1 - p\n",
    "\n",
    "\n",
    "#wrong formula!\n",
    "H = -(p*np.log(p))\n",
    "print('Wrong entropy: ' + str(H))"
   ]
  },
  {
   "cell_type": "code",
   "execution_count": 6,
   "metadata": {},
   "outputs": [
    {
     "name": "stdout",
     "output_type": "stream",
     "text": [
      "Correct entropy: 0.5623351446188083\n"
     ]
    }
   ],
   "source": [
    "#the correct way to compute entropy\n",
    "x = [.25, .75]\n",
    "H = 0\n",
    "for p in x:\n",
    "    H += -p*np.log(p)\n",
    "    \n",
    "print('Correct entropy: ' + str(H))"
   ]
  },
  {
   "cell_type": "code",
   "execution_count": 7,
   "metadata": {},
   "outputs": [
    {
     "name": "stdout",
     "output_type": "stream",
     "text": [
      "Correct entropy: 0.5623351446188083\n"
     ]
    }
   ],
   "source": [
    "#ALSO CORRECT, written out for n=2 events\n",
    "\n",
    "#BINARY CROSS-ENTROPY\n",
    "H = -(p*np.log(p) + (1-p)*np.log(1-p))\n",
    "print(\"Correct entropy: \" +str(H))"
   ]
  },
  {
   "cell_type": "markdown",
   "metadata": {},
   "source": [
    "### 2. Cross-entropy"
   ]
  },
  {
   "cell_type": "code",
   "execution_count": 10,
   "metadata": {},
   "outputs": [
    {
     "name": "stdout",
     "output_type": "stream",
     "text": [
      "cross. entropy:  1.3862943611198906\n"
     ]
    }
   ],
   "source": [
    "#note : all probs must sum to 1!\n",
    "p = [1,0 ] #sum=1\n",
    "q = [.25,  .75]  #sum=1\n",
    "H = 0\n",
    "for i in range(len(p)):\n",
    "    H -= p[i] * np.log(q[i])\n",
    "\n",
    "print('cross. entropy:  '+str(H))"
   ]
  },
  {
   "cell_type": "code",
   "execution_count": 12,
   "metadata": {},
   "outputs": [
    {
     "name": "stdout",
     "output_type": "stream",
     "text": [
      "Correct. entropy: 1.3862943611198906\n"
     ]
    }
   ],
   "source": [
    "#ALSO CORRECT, written out for n=2 events\n",
    "H = -(p[0]*np.log(q[0])  + p[1]*np.log(q[1]))\n",
    "print('Correct. entropy: '  + str(H))"
   ]
  },
  {
   "cell_type": "code",
   "execution_count": 14,
   "metadata": {},
   "outputs": [
    {
     "data": {
      "text/plain": [
       "tensor(1.3863)"
      ]
     },
     "execution_count": 14,
     "metadata": {},
     "output_type": "execute_result"
    }
   ],
   "source": [
    "#USING PYTORCH:\n",
    "\n",
    "import torch\n",
    "import torch.nn.functional as F\n",
    "\n",
    "#note: inputs must be tensors\n",
    "q_tensor = torch.Tensor(q)\n",
    "p_tensor = torch.Tensor(p)\n",
    "\n",
    "F.binary_cross_entropy(q_tensor,p_tensor)"
   ]
  },
  {
   "cell_type": "markdown",
   "metadata": {},
   "source": [
    "## min/max, argmin/argmax"
   ]
  },
  {
   "cell_type": "code",
   "execution_count": 1,
   "metadata": {},
   "outputs": [],
   "source": [
    "#import libraries\n",
    "import numpy as np\n",
    "import torch\n",
    "import torch.nn as nn\n"
   ]
  },
  {
   "cell_type": "code",
   "execution_count": 3,
   "metadata": {},
   "outputs": [
    {
     "name": "stdout",
     "output_type": "stream",
     "text": [
      "Min,max: -3,40\n",
      "-3 40\n"
     ]
    }
   ],
   "source": [
    "#using numpy:\n",
    "\n",
    "\n",
    "#create a vector\n",
    "v = np.array([1,40,2,-3]) \n",
    "\n",
    "#find and report the max and min values\n",
    "minval = np.min(v)\n",
    "maxval = np.max(v)\n",
    "\n",
    "print('Min,max: %g,%g' %(minval, maxval))\n",
    "print(minval, maxval)"
   ]
  },
  {
   "cell_type": "code",
   "execution_count": 6,
   "metadata": {},
   "outputs": [
    {
     "name": "stdout",
     "output_type": "stream",
     "text": [
      "Min,max indices: 3,1\n",
      " \n",
      "min value is -3,  max val is 40\n"
     ]
    }
   ],
   "source": [
    "#now for argmix/argmax\n",
    "minidx = np.argmin(v)\n",
    "maxidx = np.argmax(v)\n",
    "#since python indexes start from 0,,,,\n",
    "print('Min,max indices: %g,%g' %(minidx,maxidx)), print(' ')\n",
    "print(f'min value is {v[minidx]},  max val is {v[maxidx]}')"
   ]
  },
  {
   "cell_type": "markdown",
   "metadata": {},
   "source": [
    "#### min/max, argmin/argmax with matrixes"
   ]
  },
  {
   "cell_type": "code",
   "execution_count": 8,
   "metadata": {},
   "outputs": [
    {
     "name": "stdout",
     "output_type": "stream",
     "text": [
      "[[ 0  1 10]\n",
      " [20  8  5]]\n",
      "  \n"
     ]
    },
    {
     "data": {
      "text/plain": [
       "(None, None)"
      ]
     },
     "execution_count": 8,
     "metadata": {},
     "output_type": "execute_result"
    }
   ],
   "source": [
    "M = np.array([[0,1,10],\n",
    "              [20,8,5]])\n",
    "print(M),  print(\"  \")"
   ]
  },
  {
   "cell_type": "code",
   "execution_count": 10,
   "metadata": {},
   "outputs": [
    {
     "name": "stdout",
     "output_type": "stream",
     "text": [
      "0\n",
      "[0 1 5]\n",
      "[0 5]\n"
     ]
    }
   ],
   "source": [
    "#minima in this matrix\n",
    "minvals1= np.min(M) #min of entire matrix\n",
    "minvals2  = np.min(M,axis=0) #axis 0  is column, min of each column\n",
    "minvals3 = np.min(M,axis=1) #axis 1 is row, min of each row\n",
    "\n",
    "print(minvals1)\n",
    "print(minvals2)\n",
    "print(minvals3)"
   ]
  },
  {
   "cell_type": "code",
   "execution_count": 21,
   "metadata": {},
   "outputs": [
    {
     "name": "stdout",
     "output_type": "stream",
     "text": [
      "tensor([[ 0,  1, 10],\n",
      "        [20,  8,  5]])\n",
      " \n",
      "tensor(0)\n",
      " \n",
      "torch.return_types.min(\n",
      "values=tensor([0, 1, 5]),\n",
      "indices=tensor([0, 0, 1]))\n",
      " \n",
      "torch.return_types.min(\n",
      "values=tensor([0, 5]),\n",
      "indices=tensor([0, 2]))\n"
     ]
    }
   ],
   "source": [
    "#with pytorch, you just replace np.array with torch.tensor\n",
    "#and np with torch\n",
    "#BUT FIRST, TURN M INTO TORCH tensor\n",
    "M = torch.tensor([[0,1,10],[20,8,5]])\n",
    "print(M),print(\" \")\n",
    "\n",
    "mintorchvals1= torch.min(M) #min of entire matrix\n",
    "mintorchvals2  = torch.min(M,axis=0) #axis 0  is column, min of each column\n",
    "mintorchvals3 = torch.min(M,axis=1) #axis 1 is row, min of each row\n",
    "\n",
    "#print them out\n",
    "print(mintorchvals1), print(\" \")\n",
    "print(mintorchvals2), print(\" \")\n",
    "print(mintorchvals3)"
   ]
  }
 ],
 "metadata": {
  "kernelspec": {
   "display_name": "Python 3.8.2 64-bit",
   "language": "python",
   "name": "python38264bitb6aa27baca8e4bfeb4c4b33e23478e78"
  },
  "language_info": {
   "codemirror_mode": {
    "name": "ipython",
    "version": 3
   },
   "file_extension": ".py",
   "mimetype": "text/x-python",
   "name": "python",
   "nbconvert_exporter": "python",
   "pygments_lexer": "ipython3",
   "version": "3.8.5"
  }
 },
 "nbformat": 4,
 "nbformat_minor": 2
}
