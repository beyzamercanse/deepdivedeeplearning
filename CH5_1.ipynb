{
 "cells": [
  {
   "cell_type": "markdown",
   "metadata": {},
   "source": [
    "#### Transpose\n"
   ]
  },
  {
   "cell_type": "code",
   "execution_count": 1,
   "metadata": {},
   "outputs": [],
   "source": [
    "# import libraries\n",
    "import numpy as np\n",
    "import torch"
   ]
  },
  {
   "cell_type": "code",
   "execution_count": 3,
   "metadata": {},
   "outputs": [
    {
     "name": "stdout",
     "output_type": "stream",
     "text": [
      "[[1 2 3 4]]\n",
      " \n",
      "[[1]\n",
      " [2]\n",
      " [3]\n",
      " [4]]\n",
      " \n",
      "[[1 2 3 4]]\n"
     ]
    }
   ],
   "source": [
    "# create a vector\n",
    "nv = np.array([[1,2,3,4]])  #NV STANDS FOR NUMPY VECTOR, #array dizi demek\n",
    "print(nv) , print(' ')\n",
    "\n",
    "#transpose it\n",
    "print(nv.T) ,  print(' ')\n",
    "\n",
    "#transpose the transpose  == BACK TO ORGINAL\n",
    "nvT = nv.T\n",
    "print(nvT.T)"
   ]
  },
  {
   "cell_type": "code",
   "execution_count": 4,
   "metadata": {},
   "outputs": [
    {
     "name": "stdout",
     "output_type": "stream",
     "text": [
      "[[1 2 3 4]\n",
      " [5 6 7 8]]\n",
      " \n",
      "[[1 5]\n",
      " [2 6]\n",
      " [3 7]\n",
      " [4 8]]\n",
      " \n",
      "[[1 2 3 4]\n",
      " [5 6 7 8]]\n"
     ]
    }
   ],
   "source": [
    "# repeat for matrix\n",
    "nm = np.array([[1,2,3,4],[5,6,7,8]]) #nm for numpy matrix\n",
    "print(nm) ,  print(\" \")\n",
    "\n",
    "#transpose it\n",
    "print(nm.T)  , print(\" \")\n",
    "\n",
    "#transpose the transpose \n",
    "nmT = nm.T\n",
    "print(nmT.T)"
   ]
  },
  {
   "cell_type": "code",
   "execution_count": 5,
   "metadata": {},
   "outputs": [
    {
     "name": "stdout",
     "output_type": "stream",
     "text": [
      "tensor([[1, 2, 3, 4]])\n",
      " \n",
      "tensor([[1],\n",
      "        [2],\n",
      "        [3],\n",
      "        [4]])\n",
      " \n",
      "tensor([[1, 2, 3, 4]])\n"
     ]
    }
   ],
   "source": [
    "# create a vector\n",
    "tv = torch.tensor([  [1,2,3,4]   ])  # tv for torch vector\n",
    "print(tv)  ,  print (\" \")\n",
    "\n",
    "#transpose it\n",
    "print(tv.T) , print(\" \")\n",
    "\n",
    "#transpose the transpose\n",
    "tvT = tv.T\n",
    "print(tvT.T)"
   ]
  },
  {
   "cell_type": "code",
   "execution_count": 7,
   "metadata": {},
   "outputs": [
    {
     "name": "stdout",
     "output_type": "stream",
     "text": [
      "tensor([[1, 2, 3, 4],\n",
      "        [5, 6, 7, 8]])\n",
      " \n",
      "tensor([[1, 5],\n",
      "        [2, 6],\n",
      "        [3, 7],\n",
      "        [4, 8]])\n",
      " \n",
      "tensor([[1, 2, 3, 4],\n",
      "        [5, 6, 7, 8]])\n"
     ]
    }
   ],
   "source": [
    "# create a vector\n",
    "tm = torch.tensor([  [1,2,3,4],[5,6,7,8]   ])  # tm for torch matrix\n",
    "print(tm)  ,  print (\" \")\n",
    "\n",
    "#transpose it\n",
    "print(tm.T) , print(\" \")\n",
    "\n",
    "#transpose the transpose\n",
    "tmT = tm.T\n",
    "print(tmT.T)"
   ]
  },
  {
   "cell_type": "code",
   "execution_count": 8,
   "metadata": {},
   "outputs": [
    {
     "name": "stdout",
     "output_type": "stream",
     "text": [
      "Variable nv is of type <class 'numpy.ndarray'>\n",
      "Variable nm is of type <class 'numpy.ndarray'>\n",
      "Variable tv is of type <class 'torch.Tensor'>\n",
      "Variable tm is of type <class 'torch.Tensor'>\n"
     ]
    }
   ],
   "source": [
    "# examine data types\n",
    "print(f'Variable nv is of type {type(nv)}')\n",
    "print(f'Variable nm is of type {type(nm)}')\n",
    "print(f'Variable tv is of type {type(tv)}')\n",
    "print(f'Variable tm is of type {type(tm)}')"
   ]
  },
  {
   "cell_type": "markdown",
   "metadata": {},
   "source": [
    "### Dot Product"
   ]
  },
  {
   "cell_type": "code",
   "execution_count": 13,
   "metadata": {},
   "outputs": [
    {
     "name": "stdout",
     "output_type": "stream",
     "text": [
      "-2\n",
      "-2\n"
     ]
    }
   ],
   "source": [
    "#create a vector\n",
    "nv1 = np.array([1,2,3,4])\n",
    "nv2 = np.array([0,1,0,-1])\n",
    "\n",
    "#dot product via function\n",
    "print(np.dot(nv1,nv2))\n",
    "\n",
    "#dot product via computation\n",
    "print(np.sum(nv1*nv2))"
   ]
  },
  {
   "cell_type": "markdown",
   "metadata": {},
   "source": [
    "### using PyTorch"
   ]
  },
  {
   "cell_type": "code",
   "execution_count": 14,
   "metadata": {},
   "outputs": [
    {
     "name": "stdout",
     "output_type": "stream",
     "text": [
      "tensor(-2)\n",
      "tensor(-2)\n"
     ]
    }
   ],
   "source": [
    "tv1 = torch.tensor([1,2,3,4])\n",
    "tv2 = torch.tensor([0,1,0,-1])\n",
    "\n",
    "#dot product via function\n",
    "print(torch.dot(tv1,tv2))\n",
    "\n",
    "#dot product via computation\n",
    "print(torch.sum(tv1*tv2))\n",
    "\n",
    "\n",
    "#only the data type is different (bc its tensor)"
   ]
  },
  {
   "cell_type": "markdown",
   "metadata": {},
   "source": [
    "### Matrix Multiplication"
   ]
  },
  {
   "cell_type": "code",
   "execution_count": 19,
   "metadata": {},
   "outputs": [
    {
     "data": {
      "text/plain": [
       "array([[-0.43842749, -0.93485263, -0.91400965,  0.32045952],\n",
       "       [ 0.41330681, -0.15005947,  0.42021695, -1.66884168],\n",
       "       [ 0.44351734,  0.49064387,  0.64265145, -0.76021526],\n",
       "       [ 1.61832704,  0.49351439,  0.37046152, -1.77374213],\n",
       "       [ 0.15844299,  1.22482276,  1.42270122, -0.30551799],\n",
       "       [-0.73050802,  0.60045648,  1.2323059 , -0.11405146],\n",
       "       [-0.4299617 , -0.3604691 , -0.60745225,  0.95423661]])"
      ]
     },
     "execution_count": 19,
     "metadata": {},
     "output_type": "execute_result"
    }
   ],
   "source": [
    "A = np.random.randn(3,4)\n",
    "B = np.random.randn(4,5)\n",
    "C = np.random.randn(3,7)\n",
    "\n",
    "#matrix multiplications\n",
    "np.matmul(C.T, A)  #this will give a 7,4 matrix"
   ]
  },
  {
   "cell_type": "markdown",
   "metadata": {},
   "source": [
    "### Matrix multiplication using pytorch"
   ]
  },
  {
   "cell_type": "code",
   "execution_count": 25,
   "metadata": {},
   "outputs": [
    {
     "name": "stdout",
     "output_type": "stream",
     "text": [
      "tensor([[ 1.1700, -0.4400, -0.0100,  0.8500,  1.2300],\n",
      "        [-2.5400, -0.7800,  0.8100,  0.6900, -1.7900],\n",
      "        [-0.2600, -1.2000, -0.6500,  1.0300,  0.5400]])\n",
      "\n"
     ]
    },
    {
     "data": {
      "text/plain": [
       "(None, None)"
      ]
     },
     "execution_count": 25,
     "metadata": {},
     "output_type": "execute_result"
    }
   ],
   "source": [
    "# create some random matrixes\n",
    "\n",
    "# randn == creates an array of specified shape and fills it with random values as per standard normal distribution\n",
    "A = torch.randn(3,4)\n",
    "B = torch.randn(4,5)\n",
    "C1 = np.random.randn(4,7)\n",
    "C2 = torch.tensor(C1, dtype=torch.float)\n",
    "\n",
    "#numpy. round_() is a mathematical function that rounds an array to the given number of decimals\n",
    "print(np.round(A@B,   2)), print('')"
   ]
  },
  {
   "cell_type": "markdown",
   "metadata": {},
   "source": [
    "### SoftMax function"
   ]
  },
  {
   "cell_type": "code",
   "execution_count": 26,
   "metadata": {},
   "outputs": [],
   "source": [
    "#import libraries\n",
    "import numpy as np\n",
    "import torch\n",
    "import torch.nn as nn #nn for neural networks\n",
    "import matplotlib.pyplot as plt"
   ]
  },
  {
   "cell_type": "code",
   "execution_count": 28,
   "metadata": {},
   "outputs": [
    {
     "name": "stdout",
     "output_type": "stream",
     "text": [
      "[0.09003057 0.24472847 0.66524096]\n",
      "1.0\n"
     ]
    }
   ],
   "source": [
    "#. \"manually \" in numpy\n",
    "\n",
    "#the list of numbers\n",
    "z = [1,2,3]\n",
    "\n",
    "#softmax function\n",
    "num = np.exp(z)  # exp for exponent (e^x)\n",
    "\n",
    "den = np.sum(np.exp(z))\n",
    "\n",
    "sigma = num/den\n",
    "\n",
    "print(sigma)\n",
    "print(np.sum(sigma))"
   ]
  },
  {
   "cell_type": "code",
   "execution_count": 30,
   "metadata": {},
   "outputs": [
    {
     "name": "stdout",
     "output_type": "stream",
     "text": [
      "[ 9  4 -5  4 -2  5 14 14  8  5 10  3 11 13  7  7  9  4 11 13 -4  5  4  1\n",
      " -3]\n"
     ]
    },
    {
     "data": {
      "image/png": "[encoded data removed]",
      "text/plain": [
       "<Figure size 432x288 with 1 Axes>"
      ]
     },
     "metadata": {
      "needs_background": "light"
     },
     "output_type": "display_data"
    }
   ],
   "source": [
    "#repeat with some random integers\n",
    "z = np.random.randint(-5,high=15,size=25) #randint() returns an integer number selected element from the specificrange\n",
    "print(z)\n",
    "\n",
    "#compute the softmax result\n",
    "num = np.exp(z)  # == e^z\n",
    "den = np.sum(num) # == e^z1 + e^z2 + ....\n",
    "sigma = num/den\n",
    "\n",
    "#compare\n",
    "plt.plot(z,sigma, 'ko')\n",
    "plt.xlabel('original number (z)')\n",
    "plt.ylabel('Softmaxified $\\sigma$')\n",
    "\n",
    "plt.yscale('log') #because its logaritmic, its linear\n",
    "plt.title('$\\sum\\sigma$ = %g'  %np.sum(sigma))\n",
    "plt.show()"
   ]
  },
  {
   "cell_type": "markdown",
   "metadata": {},
   "source": [
    "#### softmax with pytorch\n"
   ]
  },
  {
   "cell_type": "code",
   "execution_count": 34,
   "metadata": {},
   "outputs": [
    {
     "name": "stdout",
     "output_type": "stream",
     "text": [
      "tensor([2.3461e-03, 1.5808e-05, 1.9508e-09, 1.5808e-05, 3.9184e-08, 4.2970e-05,\n",
      "        3.4819e-01, 3.4819e-01, 8.6308e-04, 4.2970e-05, 6.3773e-03, 5.8154e-06,\n",
      "        1.7335e-02, 1.2809e-01, 3.1751e-04, 3.1751e-04, 2.3461e-03, 1.5808e-05,\n",
      "        1.7335e-02, 1.2809e-01, 5.3029e-09, 4.2970e-05, 1.5808e-05, 7.8702e-07,\n",
      "        1.4415e-08])\n"
     ]
    }
   ],
   "source": [
    "softfun = nn.Softmax(dim=0)\n",
    "\n",
    "sigmaT = softfun(torch.Tensor(z))\n",
    "\n",
    "print(sigmaT)"
   ]
  },
  {
   "cell_type": "code",
   "execution_count": 35,
   "metadata": {},
   "outputs": [
    {
     "data": {
      "text/plain": [
       "torch.Tensor"
      ]
     },
     "execution_count": 35,
     "metadata": {},
     "output_type": "execute_result"
    }
   ],
   "source": [
    "type(torch.Tensor(z))"
   ]
  },
  {
   "cell_type": "markdown",
   "metadata": {},
   "source": [
    "### Logarithms"
   ]
  },
  {
   "cell_type": "code",
   "execution_count": 36,
   "metadata": {},
   "outputs": [],
   "source": [
    "#import libraries\n",
    "import numpy as np\n",
    "import matplotlib.pyplot as plt"
   ]
  },
  {
   "cell_type": "code",
   "execution_count": 46,
   "metadata": {},
   "outputs": [
    {
     "data": {
      "image/png": "[encoded data removed]",
      "text/plain": [
       "<Figure size 720x288 with 1 Axes>"
      ]
     },
     "metadata": {
      "needs_background": "light"
     },
     "output_type": "display_data"
    }
   ],
   "source": [
    "#define a set of points to evaluate\n",
    "x = np.linspace(.0001,1,200)\n",
    "\n",
    "#compute their log\n",
    "logx = np.log(x)\n",
    "\n",
    "#plot !\n",
    "fig = plt.figure(figsize=(10,4))\n",
    "\n",
    "#increase font size FYI\n",
    "plt.rcParams.update({'font.size':20})\n",
    "\n",
    "\n",
    "plt.plot(x,logx, 'ks-',markerfacecolor='w')\n",
    "plt.xlabel('x')\n",
    "plt.ylabel('log(x)')\n",
    "plt.show()\n",
    "                    \n",
    "    "
   ]
  }
 ],
 "metadata": {
  "kernelspec": {
   "display_name": "Python 3",
   "language": "python",
   "name": "python3"
  },
  "language_info": {
   "codemirror_mode": {
    "name": "ipython",
    "version": 3
   },
   "file_extension": ".py",
   "mimetype": "text/x-python",
   "name": "python",
   "nbconvert_exporter": "python",
   "pygments_lexer": "ipython3",
   "version": "3.7.4"
  }
 },
 "nbformat": 4,
 "nbformat_minor": 2
}
