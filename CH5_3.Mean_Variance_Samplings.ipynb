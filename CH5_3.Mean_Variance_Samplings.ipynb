{
 "cells": [
  {
   "cell_type": "markdown",
   "metadata": {},
   "source": [
    "### Mean and Variance"
   ]
  },
  {
   "cell_type": "markdown",
   "metadata": {},
   "source": [
    "#### Mean"
   ]
  },
  {
   "cell_type": "code",
   "execution_count": 1,
   "metadata": {},
   "outputs": [],
   "source": [
    "#import libraries\n",
    "import numpy as np"
   ]
  },
  {
   "cell_type": "code",
   "execution_count": 2,
   "metadata": {},
   "outputs": [
    {
     "name": "stdout",
     "output_type": "stream",
     "text": [
      "3.142857142857143\n",
      "3.142857142857143\n"
     ]
    }
   ],
   "source": [
    "#create a list of numbers to compute the mean and variance of\n",
    "x = [1,2,4,6,5,4,0]\n",
    "n = len(x)\n",
    "\n",
    "#compute the mean\n",
    "mean1= np.mean(x)\n",
    "mean2= np.sum(x)/n\n",
    "\n",
    "#prinnt them\n",
    "print(mean1)\n",
    "print(mean2)"
   ]
  },
  {
   "cell_type": "markdown",
   "metadata": {},
   "source": [
    "#### Variance"
   ]
  },
  {
   "cell_type": "code",
   "execution_count": 3,
   "metadata": {},
   "outputs": [
    {
     "name": "stdout",
     "output_type": "stream",
     "text": [
      "4.122448979591836\n",
      "4.809523809523809\n"
     ]
    }
   ],
   "source": [
    "\n",
    "var1 = np.var(x)\n",
    "var2 = (1/(n-1))*np.sum((x-mean1)**2)\n",
    "\n",
    "print(var1)\n",
    "print(var2)\n",
    "#they are pretty close but not exactly rthe same"
   ]
  },
  {
   "cell_type": "code",
   "execution_count": 5,
   "metadata": {},
   "outputs": [
    {
     "name": "stdout",
     "output_type": "stream",
     "text": [
      "4.809523809523809\n",
      "4.809523809523809\n"
     ]
    }
   ],
   "source": [
    "var3 = np.var(x,ddof=1)\n",
    "print(var3)\n",
    "print(var2)\n",
    "\n",
    "#same"
   ]
  },
  {
   "cell_type": "markdown",
   "metadata": {},
   "source": [
    "### SAMPLING"
   ]
  },
  {
   "cell_type": "code",
   "execution_count": 7,
   "metadata": {},
   "outputs": [],
   "source": [
    "#NON-PROBABILITY SAMPLING (subjective choice. of sample) is a sampling method \n",
    "#in which not all members of the population have an equal chance of participating in the study\n",
    "#unlike probability sampling. \n",
    "#Each member of the population has a known chance of being selected. \n",
    "#Non-probability sampling is most useful for exploratory studies like a pilot survey \n",
    "#(deploying a survey to a smaller sample compared to pre-determined sample size).\n",
    "#Researchers use this method in studies \n",
    "#where it is impossible to draw random probability sampling due to time or cost considerations.\n",
    "\n",
    "\n",
    "#NON-REPRESENTATIVE SAMPLING = RANDOM SAMPLING (random select of sample)\n",
    "#non-representative sampling causes. overfitting and limits generalizability.\n",
    "import matplotlib.pyplot as plt"
   ]
  },
  {
   "cell_type": "code",
   "execution_count": 27,
   "metadata": {},
   "outputs": [
    {
     "name": "stdout",
     "output_type": "stream",
     "text": [
      "1.1176470588235294\n",
      "3.4\n"
     ]
    }
   ],
   "source": [
    "x = [1,2,3,4,6,5,4,0,-4,-5,-2,6,10,-9,1,3,-6] #e.g :population\n",
    "n = len(x)\n",
    "\n",
    "#compute the population mean\n",
    "popmean = np.mean(x)\n",
    "\n",
    "#compute sample mean\n",
    "sample = np.random.choice(x,size=5, replace=True) # select 5 random variables out of 17 variables\n",
    "sampmean = np.mean(sample)\n",
    "\n",
    "print(popmean)\n",
    "print(sampmean)"
   ]
  },
  {
   "cell_type": "code",
   "execution_count": 29,
   "metadata": {},
   "outputs": [
    {
     "data": {
      "image/png": "[encoded data removed]",
      "text/plain": [
       "<Figure size 432x288 with 1 Axes>"
      ]
     },
     "metadata": {
      "needs_background": "light"
     },
     "output_type": "display_data"
    }
   ],
   "source": [
    "#how about computing lots of samples?\n",
    "\n",
    "#number ofexpreiments to run\n",
    "nExe = 10000\n",
    "\n",
    "#run the experiment\n",
    "sampleMeans = np.zeros(nExe)\n",
    "for i in range(nExe):\n",
    "    \n",
    "    #s1: draw a sample\n",
    "    sample = np.random.choice(x,size=5, replace=True)\n",
    "    \n",
    "    #s2: compute its mean\n",
    "    sampleMeans[i]  = np.mean(sample)\n",
    "    \n",
    "    \n",
    "#show the results as a. historgram\n",
    "plt.hist(sampleMeans, bins=40, density=True)\n",
    "plt.plot([popmean,popmean],[0,.3],'m--')\n",
    "plt.ylabel('count')\n",
    "plt.xlabel('sample mean')\n",
    "plt.show()\n"
   ]
  },
  {
   "cell_type": "code",
   "execution_count": null,
   "metadata": {},
   "outputs": [],
   "source": []
  }
 ],
 "metadata": {
  "kernelspec": {
   "display_name": "Python 3.8.2 64-bit",
   "language": "python",
   "name": "python38264bitb6aa27baca8e4bfeb4c4b33e23478e78"
  },
  "language_info": {
   "codemirror_mode": {
    "name": "ipython",
    "version": 3
   },
   "file_extension": ".py",
   "mimetype": "text/x-python",
   "name": "python",
   "nbconvert_exporter": "python",
   "pygments_lexer": "ipython3",
   "version": "3.8.5"
  }
 },
 "nbformat": 4,
 "nbformat_minor": 2
}
